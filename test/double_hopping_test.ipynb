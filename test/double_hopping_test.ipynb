{
 "cells": [
  {
   "cell_type": "code",
   "execution_count": 2,
   "metadata": {},
   "outputs": [],
   "source": [
    "import numpy as np\n",
    "import sys\n",
    "from scipy.linalg import expm\n",
    "from qiskit_nature.second_q.operators import FermionicOp\n",
    "from qiskit_nature.second_q.mappers import JordanWignerMapper\n",
    "from qiskit import QuantumCircuit\n",
    "import qiskit.quantum_info as qi\n",
    "from IPython.display import display\n",
    "from double import *\n",
    "from qiskit import transpile\n",
    "import matplotlib.pyplot as plt\n"
   ]
  },
  {
   "cell_type": "code",
   "execution_count": null,
   "metadata": {},
   "outputs": [
    {
     "name": "stdout",
     "output_type": "stream",
     "text": [
      "Fermionic Operator\n",
      "number spin orbitals=7, number terms=2\n",
      "  1 * ( +_0 +_1 -_3 -_5 )\n",
      "+ -1 * ( +_5 +_3 -_1 -_0 )\n",
      "i = 0, j = 1, k = 3, m = 5, N = 7\n",
      "The norm of the eigenvalue of qubit matrix is 4.0\n",
      "The norm of the eigenvalue of the JW transformation from Qiskit is 3.999999999999999\n",
      "The difference between two eigenvalue vector is 2.886579864025407e-15\n"
     ]
    }
   ],
   "source": [
    "# Test the construction of the qubit matrix with the Qiskit construction\n",
    "i = 0\n",
    "j = 1\n",
    "k = 3\n",
    "m = 5\n",
    "N = 7\n",
    "t = 1\n",
    "ops = FermionicOp({\"+_\" + str(i)+\" +_\"+str(j)+ \" -_\" + str(k)+\" -_\"+str(m) : t,\\\n",
    "                    \"+_\" + str(m)+\" +_\"+str(k)+ \" -_\" + str(j)+\" -_\"+str(i):-t}, num_spin_orbitals=N)\n",
    "mapper = JordanWignerMapper()\n",
    "jw_op = mapper.map(ops)\n",
    "jw_op = qi.Operator(jw_op).to_matrix()\n",
    "jw_op = np.array(jw_op)\n",
    "\n",
    "H = create_double_hopping_fermionic_operator(i, j, k, m, N)\n",
    "print(ops)\n",
    "eigH = np.linalg.eig(H)[0]\n",
    "eigJW = np.linalg.eig(jw_op)[0]\n",
    "eigH = np.sort(1j*eigH)\n",
    "eigJW = np.sort(1j*eigJW)\n",
    "print(f\"i = {i}, j = {j}, k = {k}, m = {m}, N = {N}\")\n",
    "print(f\"The norm of the eigenvalue of qubit matrix is {np.linalg.norm(eigH)}\")\n",
    "print(f\"The norm of the eigenvalue of the JW transformation from Qiskit is {np.linalg.norm(eigJW)}\")\n",
    "print(f\"The difference between two eigenvalue vector is {np.sum(abs(eigH - eigJW))}\")"
   ]
  },
  {
   "cell_type": "code",
   "execution_count": null,
   "metadata": {},
   "outputs": [],
   "source": [
    "# Check the difference between qubit matrix and the fermionic matrix\n",
    "N = 7\n",
    "i = 0\n",
    "j = 1\n",
    "k = 4\n",
    "m = 6\n",
    "t = 1\n",
    "H = create_double_hopping_fermionic_operator(i, j, k, m, N)\n",
    "M = create_qubit_double_hopping_matrix(i,j,k,m,N)\n",
    "# print(H)\n",
    "print(f\"The difference between the fermionic operator and the qubit operator is {np.sum(abs(H-M))}\")"
   ]
  },
  {
   "cell_type": "code",
   "execution_count": null,
   "metadata": {},
   "outputs": [],
   "source": [
    "# Check one component of the circuit \n",
    "N = 10\n",
    "i = 0\n",
    "j = 3\n",
    "k = 6\n",
    "m = 9\n",
    "t = 10\n",
    "qc = QuantumCircuit(N)\n",
    "gate_set = [\"Y\", \"X\", \"Y\", \"Y\"]\n",
    "create_circuit_components(qc,i,j,k,m,t,N, gate_set)\n",
    "M = create_double_hopping_qubit_exponent(i, j, k, m, t, N, gate_set)\n",
    "# print(M)\n",
    "m = qi.Operator(qc).to_matrix()\n",
    "m = np.array(m)\n",
    "print(np.sum(abs(m-M)))"
   ]
  },
  {
   "cell_type": "code",
   "execution_count": null,
   "metadata": {},
   "outputs": [],
   "source": [
    "# Check the circuit matrix with the qubit matrix\n",
    "N = 5\n",
    "i = 0\n",
    "j = 1\n",
    "k = 3\n",
    "m = 4\n",
    "t = 1\n",
    "qc = create_double_hopping_circuit(i,j,k,m,t,N)\n",
    "M = qi.Operator(qc).to_matrix()\n",
    "M = np.array(M)\n",
    "H = create_double_hopping_fermionic_operator(i, j, k, m, N)\n",
    "expH = expm(t*H)\n",
    "# print(expH)\n",
    "print(np.sum(M-expH))"
   ]
  },
  {
   "cell_type": "code",
   "execution_count": null,
   "metadata": {},
   "outputs": [],
   "source": [
    "# Draw the matrix\n",
    "display(qc.draw(\"latex\", reverse_bits=True))"
   ]
  }
 ],
 "metadata": {
  "kernelspec": {
   "display_name": "Python 3",
   "language": "python",
   "name": "python3"
  },
  "language_info": {
   "codemirror_mode": {
    "name": "ipython",
    "version": 3
   },
   "file_extension": ".py",
   "mimetype": "text/x-python",
   "name": "python",
   "nbconvert_exporter": "python",
   "pygments_lexer": "ipython3",
   "version": "3.12.5"
  }
 },
 "nbformat": 4,
 "nbformat_minor": 2
}
