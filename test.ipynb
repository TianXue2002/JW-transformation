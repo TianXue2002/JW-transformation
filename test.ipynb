{
 "cells": [
  {
   "cell_type": "code",
   "execution_count": 2,
   "metadata": {},
   "outputs": [],
   "source": [
    "import numpy as np\n",
    "import sys"
   ]
  },
  {
   "cell_type": "code",
   "execution_count": 3,
   "metadata": {},
   "outputs": [
    {
     "name": "stdout",
     "output_type": "stream",
     "text": [
      "['1', '0', '0', '0']\n",
      "8\n",
      "True\n",
      "False\n",
      "False\n",
      "False\n"
     ]
    }
   ],
   "source": [
    "a = 10\n",
    "b = np.binary_repr(a)\n",
    "b = list(str(b))\n",
    "b[2] = \"0\"\n",
    "print(b)\n",
    "b = \"\".join(b)\n",
    "print(int(b,2))\n",
    "for state in b:\n",
    "    print(state==\"1\")"
   ]
  },
  {
   "cell_type": "code",
   "execution_count": 4,
   "metadata": {},
   "outputs": [],
   "source": [
    "def create_fermionic_operator(i, j, N):\n",
    "    if i > j:\n",
    "        raise ValueError(\"i must be smaller or equal to j\")\n",
    "    else:\n",
    "        L = 2**N\n",
    "        H = np.zeros((L,L))\n",
    "        if i!=j:\n",
    "            for k in range(L):\n",
    "                state = list(np.binary_repr(k, N))\n",
    "                if state[i] == \"0\" and state[j] == \"1\":\n",
    "                    counter = 1\n",
    "                    for l in range(i, j):\n",
    "                        cur_str = state[l]\n",
    "                        if cur_str == \"1\":\n",
    "                            counter *= -1\n",
    "                    new_state = state.copy()\n",
    "                    new_state[i] = \"1\"\n",
    "                    new_state[j] = \"0\"\n",
    "                    new_state = \"\".join(new_state)\n",
    "                    new_state = int(new_state, 2)\n",
    "                    H[new_state, k] = counter\n",
    "        else:\n",
    "            for k in range(L):\n",
    "                state = list(np.binary_repr(k, N))\n",
    "                if state[i] == \"1\":\n",
    "                    H[k, k] = 1\n",
    "    H = H - H.transpose()\n",
    "    return H\n",
    "\n",
    "def create_fermionic_operator_test(i, j, N):\n",
    "    if i > j:\n",
    "        raise ValueError(\"i must be smaller or equal to j\")\n",
    "    else:\n",
    "        L = 2**N\n",
    "        H = np.zeros((L,L))\n",
    "        if i!=j:\n",
    "            for k in range(L):\n",
    "                state = list(np.binary_repr(k, N))\n",
    "                \"(a^+_i a_j)\"\n",
    "                if state[i] == \"0\" and state[j] == \"1\":\n",
    "                    counter = 1\n",
    "                    for l in range(i, j):\n",
    "                        cur_str = state[l]\n",
    "                        if cur_str == \"1\":\n",
    "                            counter *= -1\n",
    "                    new_state = state.copy()\n",
    "                    new_state[i] = \"1\"\n",
    "                    new_state[j] = \"0\"\n",
    "                    new_state = \"\".join(new_state)\n",
    "                    new_state = int(new_state, 2)\n",
    "                    H[new_state, k] = counter\n",
    "                \"-(a^+_j a_i)\"\n",
    "                if state[j] == \"0\" and state[i] == \"1\":\n",
    "                    counter = -1\n",
    "                    for l in range(i+1, j):\n",
    "                        cur_str = state[l]\n",
    "                        if cur_str == \"1\":\n",
    "                            counter *= -1\n",
    "                    \n",
    "                    new_state = state.copy()\n",
    "                    new_state[i] = \"0\"\n",
    "                    new_state[j] = \"1\"\n",
    "                    new_state = \"\".join(new_state)\n",
    "                    # print(state, \"old\")\n",
    "                    # print(new_state, \"new\")\n",
    "                    # print(counter)\n",
    "                    # print(\"=====\")\n",
    "                    new_state = int(new_state, 2)\n",
    "                    H[new_state, k] = counter\n",
    "        else:\n",
    "            for k in range(L):\n",
    "                state = list(np.binary_repr(k, N))\n",
    "                if state[i] == \"1\":\n",
    "                    H[k, k] = 1\n",
    "    return H"
   ]
  },
  {
   "cell_type": "code",
   "execution_count": 5,
   "metadata": {},
   "outputs": [
    {
     "name": "stdout",
     "output_type": "stream",
     "text": [
      "The size of system is 10, i=0, j=9\n",
      "The difference between H and H1 is 0.0\n"
     ]
    }
   ],
   "source": [
    "i = 0\n",
    "j = 9\n",
    "N = 10\n",
    "H = create_fermionic_operator(i,j,N)\n",
    "H1 = create_fermionic_operator_test(i,j,N)\n",
    "print(f\"The size of system is {N}, i={i}, j={j}\")\n",
    "print(f\"The difference between H and H1 is {np.sum(abs(H-H1))}\")\n",
    "# print(H)\n",
    "# print(H1)\n"
   ]
  },
  {
   "cell_type": "code",
   "execution_count": 6,
   "metadata": {},
   "outputs": [],
   "source": [
    "def create_qubit_operator(i,j,N):\n",
    "    if i>j:\n",
    "        raise ValueError(\"i must be smaller or equal to j\")\n",
    "    L = 2**N\n",
    "    H = np.zeros((L,L))\n",
    "    for k in range(L):\n",
    "        state = list(np.binary_repr(k, N))\n",
    "        if state[i] == \"0\" and state[j] == \"1\":\n",
    "            counter = 1\n",
    "            for l in range(i, j):\n",
    "                cur_str = state[l]\n",
    "                if cur_str == \"1\":\n",
    "                    counter *= -1\n",
    "            new_state = state.copy()\n",
    "            new_state[i] = \"1\"\n",
    "            new_state[j] = \"0\"\n",
    "            new_state = \"\".join(new_state)\n",
    "            new_state = int(new_state, 2)\n",
    "            H[new_state, k] = counter\n",
    "    H = H - H.transpose()\n",
    "    return H"
   ]
  },
  {
   "cell_type": "code",
   "execution_count": 22,
   "metadata": {},
   "outputs": [
    {
     "name": "stdout",
     "output_type": "stream",
     "text": [
      "[[ 1.          0.          0.          0.        ]\n",
      " [ 0.          0.54030231 -0.84147098  0.        ]\n",
      " [ 0.          0.84147098  0.54030231  0.        ]\n",
      " [ 0.          0.          0.          1.        ]]\n",
      "[[0.+0.j  0.+0.j  0.-0.5j 0.+0.j ]\n",
      " [0.+0.j  0.+0.j  0.+0.j  0.+0.5j]\n",
      " [0.-0.5j 0.+0.j  0.+0.j  0.+0.j ]\n",
      " [0.+0.j  0.+0.5j 0.+0.j  0.+0.j ]]\n"
     ]
    }
   ],
   "source": [
    "from scipy.linalg import expm\n",
    "i = 0\n",
    "j = 1\n",
    "N = 2\n",
    "t = 1\n",
    "H = create_qubit_operator(i,j,N)\n",
    "print(expm(H))\n",
    "y = np.array([[0, -1j], [1j, 0]])\n",
    "x = np.array([[0, 1], [1, 0]])\n",
    "z = np.array([[1, 0], [0, -1]])\n",
    "A = np.kron(-1j*x/2,z)\n",
    "print(A)\n"
   ]
  },
  {
   "cell_type": "code",
   "execution_count": 24,
   "metadata": {},
   "outputs": [
    {
     "name": "stdout",
     "output_type": "stream",
     "text": [
      "1\n",
      "     ┌───┐                   ┌───┐\n",
      "q_0: ┤ H ├──■─────────────■──┤ H ├\n",
      "     └───┘┌─┴─┐┌───────┐┌─┴─┐└───┘\n",
      "q_1: ─────┤ X ├┤ Rz(1) ├┤ X ├─────\n",
      "          └───┘└───────┘└───┘     \n",
      "[[0.87758256+0.j         0.        -0.47942554j 0.        +0.j\n",
      "  0.        +0.j        ]\n",
      " [0.        -0.47942554j 0.87758256+0.j         0.        +0.j\n",
      "  0.        +0.j        ]\n",
      " [0.        +0.j         0.        +0.j         0.87758256+0.j\n",
      "  0.        +0.47942554j]\n",
      " [0.        +0.j         0.        +0.j         0.        +0.47942554j\n",
      "  0.87758256+0.j        ]]\n",
      "///\n",
      "[[2.22044605e-16 4.79425539e-01 4.79425539e-01 0.00000000e+00]\n",
      " [4.79425539e-01 2.22044605e-16 0.00000000e+00 4.79425539e-01]\n",
      " [4.79425539e-01 0.00000000e+00 2.22044605e-16 4.79425539e-01]\n",
      " [0.00000000e+00 4.79425539e-01 4.79425539e-01 2.22044605e-16]]\n"
     ]
    }
   ],
   "source": [
    "from qiskit import QuantumCircuit\n",
    "import qiskit.quantum_info as qi\n",
    "def construct_circuit(i,j,N,t):\n",
    "    # Construc before hand gates\n",
    "    qc = QuantumCircuit(N)\n",
    "    qc.h(i)\n",
    "\n",
    "    for k in range(i,j):\n",
    "        qc.cx(k, k+1)\n",
    "    qc.rz(t, j)\n",
    "    for k in range(j,i,-1):\n",
    "        qc.cx(k-1, k)\n",
    "        print(k)\n",
    "\n",
    "    qc.h(i)    \n",
    "    return qc\n",
    "\n",
    "i = 0\n",
    "j = 1\n",
    "N = 2\n",
    "t = 1\n",
    "qc = construct_circuit(i,j,N,t)\n",
    "print(qc)\n",
    "M = qi.Operator(qc).to_matrix()\n",
    "M = np.array(M)\n",
    "print(M)\n",
    "print(\"///\")\n",
    "H = expm(A)\n",
    "print(abs(H-M))\n"
   ]
  },
  {
   "cell_type": "code",
   "execution_count": 28,
   "metadata": {},
   "outputs": [
    {
     "name": "stdout",
     "output_type": "stream",
     "text": [
      "Operator([[ 0.+0.j,  1.+0.j,  0.+0.j,  0.+0.j],\n",
      "          [ 1.+0.j,  0.+0.j,  0.+0.j,  0.+0.j],\n",
      "          [ 0.+0.j,  0.+0.j,  0.+0.j, -1.+0.j],\n",
      "          [ 0.+0.j,  0.+0.j, -1.+0.j,  0.+0.j]],\n",
      "         input_dims=(2, 2), output_dims=(2, 2))\n",
      "     ┌───┐\n",
      "q_0: ┤ X ├\n",
      "     ├───┤\n",
      "q_1: ┤ Z ├\n",
      "     └───┘\n",
      "[[ 0  1  0  0]\n",
      " [ 1  0  0  0]\n",
      " [ 0  0  0 -1]\n",
      " [ 0  0 -1  0]]\n"
     ]
    }
   ],
   "source": [
    "test = QuantumCircuit(2, name=\"hi\")\n",
    "# test.sdg(0)\n",
    "# test.h(0)\n",
    "# test.z(0)\n",
    "# test.h(0)\n",
    "# test.s(0)\n",
    "test.x(0)\n",
    "test.z(1)\n",
    "m = qi.Operator(test)\n",
    "print(m)\n",
    "print(test)\n",
    "print(np.kron(z,x))"
   ]
  },
  {
   "cell_type": "code",
   "execution_count": 10,
   "metadata": {},
   "outputs": [
    {
     "name": "stdout",
     "output_type": "stream",
     "text": [
      "                         \n",
      "q_0: ──■──────────────■──\n",
      "     ┌─┴─┐┌────────┐┌─┴─┐\n",
      "q_1: ┤ X ├┤ Rz(-1) ├┤ X ├\n",
      "     └───┘└────────┘└───┘\n",
      "Operator([[0.87758256+0.47942554j, 0.        +0.j        ,\n",
      "           0.        +0.j        , 0.        +0.j        ],\n",
      "          [0.        +0.j        , 0.87758256-0.47942554j,\n",
      "           0.        +0.j        , 0.        +0.j        ],\n",
      "          [0.        +0.j        , 0.        +0.j        ,\n",
      "           0.87758256-0.47942554j, 0.        +0.j        ],\n",
      "          [0.        +0.j        , 0.        +0.j        ,\n",
      "           0.        +0.j        , 0.87758256+0.47942554j]],\n",
      "         input_dims=(2, 2), output_dims=(2, 2))\n"
     ]
    }
   ],
   "source": [
    "N = 2\n",
    "qc = QuantumCircuit(N)\n",
    "i = 0\n",
    "j = 1\n",
    "for k in range(i,j):\n",
    "    qc.cx(k, k+1)\n",
    "qc.rz(-1, j)\n",
    "for k in range(j,i,-1):\n",
    "    qc.cx(k-1, k)\n",
    "print(qc)\n",
    "m = qi.Operator(qc)\n",
    "print(m)\n"
   ]
  },
  {
   "cell_type": "code",
   "execution_count": 11,
   "metadata": {},
   "outputs": [
    {
     "name": "stdout",
     "output_type": "stream",
     "text": [
      "[[0.87758256+0.47942554j 0.        +0.j         0.        +0.j\n",
      "  0.        +0.j        ]\n",
      " [0.        +0.j         0.87758256-0.47942554j 0.        +0.j\n",
      "  0.        +0.j        ]\n",
      " [0.        +0.j         0.        +0.j         0.87758256-0.47942554j\n",
      "  0.        +0.j        ]\n",
      " [0.        +0.j         0.        +0.j         0.        +0.j\n",
      "  0.87758256+0.47942554j]]\n"
     ]
    }
   ],
   "source": [
    "Z = np.array([[1,0], [0,-1]])\n",
    "Z2 = np.kron(Z,Z)\n",
    "print(expm(1j/2*Z2))"
   ]
  },
  {
   "cell_type": "code",
   "execution_count": 1,
   "metadata": {},
   "outputs": [
    {
     "name": "stdout",
     "output_type": "stream",
     "text": [
      "-2*I*(a1*b1*c1*d2 + a1*b1*c2*d1 - a1*b2*c1*d1 + a1*b2*c2*d2 - a2*b1*c1*d1 + a2*b1*c2*d2 - a2*b2*c1*d2 - a2*b2*c2*d1)\n"
     ]
    }
   ],
   "source": [
    "import sympy as sp\n",
    "\n",
    "# Define symbols\n",
    "a1, a2, b1, b2, c1, c2, d1, d2 = sp.symbols('a1 a2 b1 b2 c1 c2 d1 d2')\n",
    "i = sp.I  # imaginary unit\n",
    "\n",
    "# Define the expression\n",
    "expr = -((a1 - i*a2)*(b1 - i*b2)*(c1 + i*c2)*(d1 + i*d2)) + \\\n",
    "       ((a1 + i*a2)*(b1 + i*b2)*(c1 - i*c2)*(d1 - i*d2))\n",
    "\n",
    "# Factor the expression\n",
    "factored_expr = sp.factor(expr)\n",
    "\n",
    "print(factored_expr)"
   ]
  }
 ],
 "metadata": {
  "kernelspec": {
   "display_name": "Python 3",
   "language": "python",
   "name": "python3"
  },
  "language_info": {
   "codemirror_mode": {
    "name": "ipython",
    "version": 3
   },
   "file_extension": ".py",
   "mimetype": "text/x-python",
   "name": "python",
   "nbconvert_exporter": "python",
   "pygments_lexer": "ipython3",
   "version": "3.12.5"
  }
 },
 "nbformat": 4,
 "nbformat_minor": 2
}
