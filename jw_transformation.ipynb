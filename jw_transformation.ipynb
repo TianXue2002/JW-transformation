{
 "cells": [
  {
   "cell_type": "code",
   "execution_count": 1,
   "metadata": {},
   "outputs": [],
   "source": [
    "import numpy as np\n",
    "import sys\n",
    "from scipy.linalg import expm\n",
    "from qiskit_nature.second_q.operators import FermionicOp\n",
    "from qiskit_nature.second_q.mappers import JordanWignerMapper\n",
    "from qiskit import QuantumCircuit\n",
    "import qiskit.quantum_info as qi\n"
   ]
  },
  {
   "cell_type": "code",
   "execution_count": 2,
   "metadata": {},
   "outputs": [],
   "source": [
    "def create_single_hopping_fermionic_operator(i, j, N):\n",
    "    if i > j:\n",
    "        raise ValueError(\"i must be smaller or equal to j\")\n",
    "    else:\n",
    "        L = 2**N\n",
    "        H = np.zeros((L,L))\n",
    "        if i!=j:\n",
    "            for k in range(L):\n",
    "                state = list(np.binary_repr(k, N))\n",
    "                if state[i] == \"0\" and state[j] == \"1\":\n",
    "                    counter = 1\n",
    "                    for l in range(i, j):\n",
    "                        cur_str = state[l]\n",
    "                        if cur_str == \"1\":\n",
    "                            counter *= -1\n",
    "                    new_state = state.copy()\n",
    "                    new_state[i] = \"1\"\n",
    "                    new_state[j] = \"0\"\n",
    "                    new_state = \"\".join(new_state)\n",
    "                    new_state = int(new_state, 2)\n",
    "                    H[new_state, k] = counter\n",
    "        else:\n",
    "            for k in range(L):\n",
    "                state = list(np.binary_repr(k, N))\n",
    "                if state[i] == \"1\":\n",
    "                    H[k, k] = 1\n",
    "    H = H - H.transpose()\n",
    "    return H\n",
    "\n",
    "def create_single_hopping_fermionic_operator_test(i, j, N):\n",
    "    if i > j:\n",
    "        raise ValueError(\"i must be smaller or equal to j\")\n",
    "    else:\n",
    "        L = 2**N\n",
    "        H = np.zeros((L,L))\n",
    "        if i!=j:\n",
    "            for k in range(L):\n",
    "                state = list(np.binary_repr(k, N))\n",
    "                \"(a^+_i a_j)\"\n",
    "                if state[i] == \"0\" and state[j] == \"1\":\n",
    "                    counter = 1\n",
    "                    for l in range(i, j):\n",
    "                        cur_str = state[l]\n",
    "                        if cur_str == \"1\":\n",
    "                            counter *= -1\n",
    "                    new_state = state.copy()\n",
    "                    new_state[i] = \"1\"\n",
    "                    new_state[j] = \"0\"\n",
    "                    new_state = \"\".join(new_state)\n",
    "                    new_state = int(new_state, 2)\n",
    "                    H[new_state, k] = counter\n",
    "                \"-(a^+_j a_i)\"\n",
    "                if state[j] == \"0\" and state[i] == \"1\":\n",
    "                    counter = -1\n",
    "                    for l in range(i+1, j):\n",
    "                        cur_str = state[l]\n",
    "                        if cur_str == \"1\":\n",
    "                            counter *= -1\n",
    "                    \n",
    "                    new_state = state.copy()\n",
    "                    new_state[i] = \"0\"\n",
    "                    new_state[j] = \"1\"\n",
    "                    new_state = \"\".join(new_state)\n",
    "                    # print(state, \"old\")\n",
    "                    # print(new_state, \"new\")\n",
    "                    # print(counter)\n",
    "                    # print(\"=====\")\n",
    "                    new_state = int(new_state, 2)\n",
    "                    H[new_state, k] = counter\n",
    "        else:\n",
    "            for k in range(L):\n",
    "                state = list(np.binary_repr(k, N))\n",
    "                if state[i] == \"1\":\n",
    "                    H[k, k] = 1\n",
    "    return H"
   ]
  },
  {
   "cell_type": "code",
   "execution_count": 37,
   "metadata": {},
   "outputs": [
    {
     "name": "stdout",
     "output_type": "stream",
     "text": [
      "The size of system is 5, i=0, j=4\n",
      "The difference between H and H1 is 0.0\n"
     ]
    }
   ],
   "source": [
    "i = 0\n",
    "j = 4\n",
    "N = 5\n",
    "H = create_single_hopping_fermionic_operator(i,j,N)\n",
    "H1 = create_single_hopping_fermionic_operator_test(i,j,N)\n",
    "print(f\"The size of system is {N}, i={i}, j={j}\")\n",
    "print(f\"The difference between H and H1 is {np.sum(abs(H-H1))}\")\n",
    "# print(H)\n",
    "# print(H1)\n"
   ]
  },
  {
   "cell_type": "code",
   "execution_count": 40,
   "metadata": {},
   "outputs": [
    {
     "name": "stdout",
     "output_type": "stream",
     "text": [
      "The norm of the eigenvalue of qubit matrix is 4.0\n",
      "The norm of the eigenvalue of the JW transformation from Qiskit is 3.999999999999999\n",
      "The difference between two eigenvalue vector is 2.886579864025407e-15\n"
     ]
    }
   ],
   "source": [
    "t = 1\n",
    "ops = FermionicOp({\"+_\" + str(i)+\" -_\"+str(j): t, \"+_\" + str(j)+\" -_\"+str(i):-t}, num_spin_orbitals=N)\n",
    "mapper = JordanWignerMapper()\n",
    "jw_op = mapper.map(ops)\n",
    "jw_op = qi.Operator(jw_op).to_matrix()\n",
    "jw_op = np.array(jw_op)\n",
    "eigH = np.linalg.eig(H)[0]\n",
    "eigJW = np.linalg.eig(jw_op)[0]\n",
    "eigH = np.sort(1j*eigH)\n",
    "eigJW = np.sort(1j*eigJW)\n",
    "print(f\"The norm of the eigenvalue of qubit matrix is {np.linalg.norm(eigH)}\")\n",
    "print(f\"The norm of the eigenvalue of the JW transformation from Qiskit is {np.linalg.norm(eigJW)}\")\n",
    "print(f\"The difference between two eigenvalue vector is {np.sum(abs(eigH - eigJW))}\")"
   ]
  },
  {
   "cell_type": "code",
   "execution_count": 138,
   "metadata": {},
   "outputs": [],
   "source": [
    "def create_single_hopping_qubit_operator(i,j,N):\n",
    "    if i>j:\n",
    "        raise ValueError(\"i must be smaller or equal to j\")\n",
    "    L = 2**N\n",
    "    H = np.zeros((L,L))\n",
    "    for k in range(L):\n",
    "        state = list(np.binary_repr(k, N))\n",
    "        if state[i] == \"0\" and state[j] == \"1\":\n",
    "            counter = 1\n",
    "            for l in range(i, j):\n",
    "                cur_str = state[l]\n",
    "                if cur_str == \"1\":\n",
    "                    counter *= -1\n",
    "            new_state = state.copy()\n",
    "            new_state[i] = \"1\"\n",
    "            new_state[j] = \"0\"\n",
    "            new_state = \"\".join(new_state)\n",
    "            new_state = int(new_state, 2)\n",
    "            H[new_state, k] = counter\n",
    "    H = H - H.transpose()\n",
    "    return H"
   ]
  },
  {
   "cell_type": "code",
   "execution_count": 139,
   "metadata": {},
   "outputs": [],
   "source": [
    "def create_single_hopping_qubit_exponent(N, i, j, t):\n",
    "    y = np.array([[0, -1j], [1j, 0]])\n",
    "    x = np.array([[0, 1], [1, 0]])\n",
    "    z = np.array([[1, 0], [0, -1]])\n",
    "    I = np.eye(2)\n",
    "    A = 1\n",
    "    B = 1\n",
    "    for k in range(N):\n",
    "        if k < i:\n",
    "            A = np.kron(A, I)\n",
    "            B = np.kron(B,I)\n",
    "        elif k == i:\n",
    "            A = np.kron(A, -t*1j*y/2)\n",
    "            B = np.kron(B, t*1j*x/2)\n",
    "        elif k < j:\n",
    "            A = np.kron(A, z)\n",
    "            B = np.kron(B, z)\n",
    "        elif k == j:\n",
    "            A = np.kron(A, x)\n",
    "            B = np.kron(B, y)\n",
    "        else:\n",
    "            A = np.kron(A, I)\n",
    "            B = np.kron(B,I)\n",
    "    A_test = np.kron(-1j*y/2,x)\n",
    "    return np.matmul(expm(A), expm(B))\n",
    "\n"
   ]
  },
  {
   "cell_type": "code",
   "execution_count": 140,
   "metadata": {},
   "outputs": [
    {
     "name": "stdout",
     "output_type": "stream",
     "text": [
      "[[0. 0. 0. 0. 0. 0. 0. 0.]\n",
      " [0. 0. 0. 0. 0. 0. 0. 0.]\n",
      " [0. 0. 0. 0. 0. 0. 0. 0.]\n",
      " [0. 0. 0. 0. 0. 0. 0. 0.]\n",
      " [0. 0. 0. 0. 0. 0. 0. 0.]\n",
      " [0. 0. 0. 0. 0. 0. 0. 0.]\n",
      " [0. 0. 0. 0. 0. 0. 0. 0.]\n",
      " [0. 0. 0. 0. 0. 0. 0. 0.]]\n"
     ]
    }
   ],
   "source": [
    "y = np.array([[0, -1j], [1j, 0]])\n",
    "x = np.array([[0, 1], [1, 0]])\n",
    "z = np.array([[1, 0], [0, -1]])\n",
    "I = np.eye(2)\n",
    "A = np.kron(-1j*y/2,x)\n",
    "B = np.kron(1j*x/2, y)\n",
    "A = np.kron(A,I)\n",
    "B = np.kron(B,I)\n",
    "testH = np.matmul(expm(A), expm(B))\n",
    "\n",
    "i = 0\n",
    "j = 1\n",
    "N = 3\n",
    "t = 1\n",
    "expH = create_single_hopping_qubit_exponent(N, i, j, t)\n",
    "print(abs(expH-testH))"
   ]
  },
  {
   "cell_type": "code",
   "execution_count": null,
   "metadata": {},
   "outputs": [],
   "source": [
    "\n",
    "def construct_circuit(i,j,N,t):\n",
    "    # Construc before hand gates\n",
    "    qc = QuantumCircuit(N)\n",
    "    qc.h(N-j-1)\n",
    "    \n",
    "    qc.sdg(N - i - 1)\n",
    "    qc.h(N - i - 1)\n",
    "\n",
    "    for k in range(i,j):\n",
    "        qc.cx(N - k - 1, N - (k+1) - 1)\n",
    "    qc.rz(t, N-j-1)\n",
    "    for k in range(j,i,-1):\n",
    "        qc.cx(N-k, N-k-1)\n",
    "\n",
    "    qc.h(N-i-1)    \n",
    "    qc.s(N-i-1)\n",
    "    qc.h(N-j-1)\n",
    "    \n",
    "    # Construc the second term\n",
    "    qc.h(N-i-1)\n",
    "    \n",
    "    qc.sdg(N-j-1)\n",
    "    qc.h(N-j-1)\n",
    "\n",
    "    for k in range(i,j):\n",
    "        qc.cx(N-k-1, N-k-2)\n",
    "    qc.rz(-t, N-j-1)\n",
    "    for k in range(j,i,-1):\n",
    "        qc.cx(N-k, N-k-1)\n",
    "\n",
    "    qc.h(N-j-1)    \n",
    "    qc.s(N-j-1)\n",
    "    qc.h(N-i-1)\n",
    "    return qc"
   ]
  },
  {
   "cell_type": "code",
   "execution_count": 142,
   "metadata": {},
   "outputs": [
    {
     "data": {
      "image/jpeg": "[encoded data removed]",
      "image/png": "[encoded data removed]",
      "text/plain": [
       "<PIL.Image.Image image mode=RGB size=1262x274>"
      ]
     },
     "metadata": {},
     "output_type": "display_data"
    }
   ],
   "source": [
    "i = 2\n",
    "j = 6\n",
    "N = 8\n",
    "t = 0.1\n",
    "expH = create_single_hopping_qubit_exponent(N, i, j, t)\n",
    "qc = construct_circuit(i,j,N,t)\n",
    "qc.draw(reverse_bits=True)\n",
    "M = qi.Operator(qc).to_matrix()\n",
    "M = np.array(M)\n",
    "from IPython.display import display\n",
    "display(qc.draw(\"latex\", reverse_bits=True))\n"
   ]
  },
  {
   "cell_type": "code",
   "execution_count": 143,
   "metadata": {},
   "outputs": [
    {
     "name": "stdout",
     "output_type": "stream",
     "text": [
      "The difference between the matrix of the circuit and the qubit matrix is 1.9362345049050105e-13\n"
     ]
    }
   ],
   "source": [
    "# print(f\"The qubit matrix is\\n {np.real(expH)}\")\n",
    "# print(f\"cos(1) = {np.cos(1)}\")\n",
    "print(f\"The difference between the matrix of the circuit and the qubit matrix is {np.sum(abs(expH-M))}\")"
   ]
  },
  {
   "cell_type": "code",
   "execution_count": 144,
   "metadata": {},
   "outputs": [
    {
     "name": "stdout",
     "output_type": "stream",
     "text": [
      "Operator([[ 1.+0.j,  0.+0.j],\n",
      "          [ 0.+0.j, -1.+0.j]],\n",
      "         input_dims=(2,), output_dims=(2,))\n",
      "   ┌───┐┌───┐┌───┐\n",
      "q: ┤ H ├┤ X ├┤ H ├\n",
      "   └───┘└───┘└───┘\n"
     ]
    }
   ],
   "source": [
    "test = QuantumCircuit(1)\n",
    "# test.sdg(0)\n",
    "# test.h(0)\n",
    "# test.z(0)\n",
    "# test.h(0)\n",
    "# test.s(0)\n",
    "test.h(0)\n",
    "test.x(0)\n",
    "test.h(0)\n",
    "m = qi.Operator(test)\n",
    "print(m)\n",
    "print(test)"
   ]
  },
  {
   "cell_type": "code",
   "execution_count": 145,
   "metadata": {},
   "outputs": [
    {
     "name": "stdout",
     "output_type": "stream",
     "text": [
      "                         \n",
      "q_0: ──■──────────────■──\n",
      "     ┌─┴─┐┌────────┐┌─┴─┐\n",
      "q_1: ┤ X ├┤ Rz(-1) ├┤ X ├\n",
      "     └───┘└────────┘└───┘\n",
      "Operator([[0.87758256+0.47942554j, 0.        +0.j        ,\n",
      "           0.        +0.j        , 0.        +0.j        ],\n",
      "          [0.        +0.j        , 0.87758256-0.47942554j,\n",
      "           0.        +0.j        , 0.        +0.j        ],\n",
      "          [0.        +0.j        , 0.        +0.j        ,\n",
      "           0.87758256-0.47942554j, 0.        +0.j        ],\n",
      "          [0.        +0.j        , 0.        +0.j        ,\n",
      "           0.        +0.j        , 0.87758256+0.47942554j]],\n",
      "         input_dims=(2, 2), output_dims=(2, 2))\n"
     ]
    }
   ],
   "source": [
    "N = 2\n",
    "qc = QuantumCircuit(N)\n",
    "i = 0\n",
    "j = 1\n",
    "for k in range(i,j):\n",
    "    qc.cx(k, k+1)\n",
    "qc.rz(-1, j)\n",
    "for k in range(j,i,-1):\n",
    "    qc.cx(k-1, k)\n",
    "print(qc)\n",
    "m = qi.Operator(qc)\n",
    "print(m)\n"
   ]
  },
  {
   "cell_type": "code",
   "execution_count": 146,
   "metadata": {},
   "outputs": [
    {
     "name": "stdout",
     "output_type": "stream",
     "text": [
      "     ┌───┐\n",
      "q_0: ┤ Z ├\n",
      "     ├───┤\n",
      "q_1: ┤ X ├\n",
      "     └───┘\n",
      "The original matrix of XZ is [[ 0  0  1  0]\n",
      " [ 0  0  0 -1]\n",
      " [ 1  0  0  0]\n",
      " [ 0 -1  0  0]]\n",
      "The matrix of the circuit of XZ is [[ 0.  0.  1.  0.]\n",
      " [ 0.  0.  0. -1.]\n",
      " [ 1.  0.  0.  0.]\n",
      " [ 0. -1.  0.  0.]]\n"
     ]
    }
   ],
   "source": [
    "\n",
    "N = 2\n",
    "qc = QuantumCircuit(N)\n",
    "qc.x(1)\n",
    "qc.z(0)\n",
    "print(qc)\n",
    "print(f\"The original matrix of XZ is {np.kron(x,z)}\")\n",
    "print(f\"The matrix of the circuit of XZ is {np.real(qi.Operator(qc))}\")"
   ]
  },
  {
   "cell_type": "code",
   "execution_count": 72,
   "metadata": {},
   "outputs": [],
   "source": [
    "def create_double_hopping_fermionic_operator(i, j, k, m, N):\n",
    "    if i > j or j > k or k > m:\n",
    "        raise ValueError(\"please order your index\")\n",
    "    else:\n",
    "        L = 2**N\n",
    "        H = np.zeros((L,L))\n",
    "        if i!=j:\n",
    "            for num in range(L):\n",
    "                state = list(np.binary_repr(num, N))\n",
    "                if state[i] == \"0\" and state[j] == \"0\" and state[k] == \"1\" and state[m] == \"1\":\n",
    "                    counter = -1\n",
    "                    for l in range(i, j):\n",
    "                        cur_str = state[l]\n",
    "                        if cur_str == \"1\":\n",
    "                            counter *= -1\n",
    "                    for l in range(k,m):\n",
    "                        cur_str = state[l]\n",
    "                        if cur_str == \"1\":\n",
    "                            counter *= -1\n",
    "                    new_state = state.copy()\n",
    "                    new_state[i] = \"1\"\n",
    "                    new_state[j] = \"1\"\n",
    "                    new_state[k] = \"0\"\n",
    "                    new_state[m] = \"0\"\n",
    "                    new_state = \"\".join(new_state)\n",
    "                    new_state = int(new_state, 2)\n",
    "                    H[new_state, num] = counter\n",
    "        else:\n",
    "            for k in range(L):\n",
    "                state = list(np.binary_repr(k, N))\n",
    "                if state[i] == \"1\":\n",
    "                    H[k, k] = 1\n",
    "    H = H - H.transpose()\n",
    "    return H"
   ]
  },
  {
   "cell_type": "code",
   "execution_count": 75,
   "metadata": {},
   "outputs": [
    {
     "name": "stdout",
     "output_type": "stream",
     "text": [
      "Fermionic Operator\n",
      "number spin orbitals=7, number terms=2\n",
      "  1 * ( +_0 +_1 -_3 -_5 )\n",
      "+ -1 * ( +_5 +_3 -_1 -_0 )\n",
      "i = 0, j = 1, k = 3, m = 5, N = 7\n",
      "The norm of the eigenvalue of qubit matrix is 4.0\n",
      "The norm of the eigenvalue of the JW transformation from Qiskit is 3.999999999999999\n",
      "The difference between two eigenvalue vector is 2.886579864025407e-15\n"
     ]
    }
   ],
   "source": [
    "i = 0\n",
    "j = 1\n",
    "k = 3\n",
    "m = 5\n",
    "N = 7\n",
    "t = 1\n",
    "ops = FermionicOp({\"+_\" + str(i)+\" +_\"+str(j)+ \" -_\" + str(k)+\" -_\"+str(m) : t,\\\n",
    "                    \"+_\" + str(m)+\" +_\"+str(k)+ \" -_\" + str(j)+\" -_\"+str(i):-t}, num_spin_orbitals=N)\n",
    "mapper = JordanWignerMapper()\n",
    "jw_op = mapper.map(ops)\n",
    "jw_op = qi.Operator(jw_op).to_matrix()\n",
    "jw_op = np.array(jw_op)\n",
    "\n",
    "H = create_double_hopping_fermionic_operator(i, j, k, m, N)\n",
    "print(ops)\n",
    "eigH = np.linalg.eig(H)[0]\n",
    "eigJW = np.linalg.eig(jw_op)[0]\n",
    "eigH = np.sort(1j*eigH)\n",
    "eigJW = np.sort(1j*eigJW)\n",
    "print(f\"i = {i}, j = {j}, k = {k}, m = {m}, N = {N}\")\n",
    "print(f\"The norm of the eigenvalue of qubit matrix is {np.linalg.norm(eigH)}\")\n",
    "print(f\"The norm of the eigenvalue of the JW transformation from Qiskit is {np.linalg.norm(eigJW)}\")\n",
    "print(f\"The difference between two eigenvalue vector is {np.sum(abs(eigH - eigJW))}\")"
   ]
  },
  {
   "cell_type": "code",
   "execution_count": null,
   "metadata": {},
   "outputs": [],
   "source": []
  }
 ],
 "metadata": {
  "kernelspec": {
   "display_name": "Python 3",
   "language": "python",
   "name": "python3"
  },
  "language_info": {
   "codemirror_mode": {
    "name": "ipython",
    "version": 3
   },
   "file_extension": ".py",
   "mimetype": "text/x-python",
   "name": "python",
   "nbconvert_exporter": "python",
   "pygments_lexer": "ipython3",
   "version": "3.12.5"
  }
 },
 "nbformat": 4,
 "nbformat_minor": 2
}
