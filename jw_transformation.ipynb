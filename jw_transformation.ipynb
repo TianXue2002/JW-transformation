{
 "cells": [
  {
   "cell_type": "code",
   "execution_count": 1,
   "metadata": {},
   "outputs": [],
   "source": [
    "import numpy as np\n",
    "import sys\n",
    "from scipy.linalg import expm\n",
    "from qiskit_nature.second_q.operators import FermionicOp\n",
    "from qiskit_nature.second_q.mappers import JordanWignerMapper\n",
    "from qiskit import QuantumCircuit\n",
    "import qiskit.quantum_info as qi\n",
    "from IPython.display import display\n",
    "from single_hopping import *\n",
    "from double_hopping import *\n",
    "from qiskit import transpile\n",
    "import matplotlib.pyplot as plt\n"
   ]
  },
  {
   "cell_type": "code",
   "execution_count": 2,
   "metadata": {},
   "outputs": [],
   "source": [
    "def construct_inter_controlled_single_hopping_qubit_matrix(i,j,k,t,N):\n",
    "    y = np.array([[0, -1j], [1j, 0]])\n",
    "    x = np.array([[0, 1], [1, 0]])\n",
    "    z = np.array([[1, 0], [0, -1]])\n",
    "    I = np.eye(2)\n",
    "    A = 1\n",
    "    B = 1\n",
    "    C = 1\n",
    "    D = 1\n",
    "    for a in range(N):\n",
    "        if a < i:\n",
    "            A = np.kron(A,I)\n",
    "            B = np.kron(B,I)\n",
    "            C = np.kron(C,I)\n",
    "            D = np.kron(D,I)\n",
    "        elif a == i:\n",
    "            A = np.kron(A,y)\n",
    "            B = np.kron(B,y)\n",
    "            C = np.kron(C,x)\n",
    "            D = np.kron(D,x)\n",
    "        elif a < j:\n",
    "            A = np.kron(A,z)\n",
    "            B = np.kron(B,z)\n",
    "            C = np.kron(C,z)\n",
    "            D = np.kron(D,z)\n",
    "        elif a == j:\n",
    "            A = np.kron(A,z)\n",
    "            B = np.kron(B,I)\n",
    "            C = np.kron(C,z)\n",
    "            D = np.kron(D,I)\n",
    "        elif a < k:\n",
    "            A = np.kron(A,z)\n",
    "            B = np.kron(B,z)\n",
    "            C = np.kron(C,z)\n",
    "            D = np.kron(D,z)\n",
    "        elif a == k:\n",
    "            A = np.kron(A,x)\n",
    "            B = np.kron(B,x)\n",
    "            C = np.kron(C,y)\n",
    "            D = np.kron(D,y)\n",
    "        else:\n",
    "            A = np.kron(A,I)\n",
    "            B = np.kron(B,I)\n",
    "            C = np.kron(C,I)\n",
    "            D = np.kron(D,I)\n",
    "    return t*(-1j*A+1j*B+1j*C-1j*D)/4"
   ]
  },
  {
   "cell_type": "code",
   "execution_count": 3,
   "metadata": {},
   "outputs": [
    {
     "name": "stdout",
     "output_type": "stream",
     "text": [
      "i = 0, j = 3, k = 4, N = 7\n",
      "The norm of the eigenvalue of qubit matrix is 5.65685424949238\n",
      "The norm of the eigenvalue of the JW transformation from Qiskit is 5.65685424949238\n",
      "The difference between two eigenvalue vector is 0.0\n"
     ]
    }
   ],
   "source": [
    "N = 7\n",
    "i = 0\n",
    "j = 3\n",
    "k = 4\n",
    "t = 1\n",
    "H = construct_inter_controlled_single_hopping_qubit_matrix(i, j, k, t, N)\n",
    "ops = FermionicOp({\"+_\" + str(i)+\" +_\"+str(j)+ \" -_\" + str(j)+\" -_\"+str(k) : t,\\\n",
    "                    \"+_\" + str(k)+\" +_\"+str(j)+ \" -_\" + str(j)+\" -_\"+str(i):-t}, num_spin_orbitals=N)\n",
    "mapper = JordanWignerMapper()\n",
    "jw_op = mapper.map(ops)\n",
    "jw_op = qi.Operator(jw_op).to_matrix()\n",
    "jw_op = np.array(jw_op)\n",
    "\n",
    "eigH = np.linalg.eig(H)[0]\n",
    "eigJW = np.linalg.eig(jw_op)[0]\n",
    "eigH = np.sort(1j*eigH)\n",
    "eigJW = np.sort(1j*eigJW)\n",
    "print(f\"i = {i}, j = {j}, k = {k}, N = {N}\")\n",
    "print(f\"The norm of the eigenvalue of qubit matrix is {np.linalg.norm(eigH)}\")\n",
    "print(f\"The norm of the eigenvalue of the JW transformation from Qiskit is {np.linalg.norm(eigJW)}\")\n",
    "print(f\"The difference between two eigenvalue vector is {np.sum(abs(eigH - eigJW))}\")"
   ]
  },
  {
   "cell_type": "code",
   "execution_count": null,
   "metadata": {},
   "outputs": [],
   "source": []
  }
 ],
 "metadata": {
  "kernelspec": {
   "display_name": "Python 3",
   "language": "python",
   "name": "python3"
  },
  "language_info": {
   "codemirror_mode": {
    "name": "ipython",
    "version": 3
   },
   "file_extension": ".py",
   "mimetype": "text/x-python",
   "name": "python",
   "nbconvert_exporter": "python",
   "pygments_lexer": "ipython3",
   "version": "3.12.5"
  }
 },
 "nbformat": 4,
 "nbformat_minor": 2
}
